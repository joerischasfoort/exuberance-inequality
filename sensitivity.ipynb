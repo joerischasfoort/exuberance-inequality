{
 "cells": [
  {
   "cell_type": "code",
   "execution_count": 1,
   "metadata": {},
   "outputs": [],
   "source": [
    "%matplotlib inline\n",
    "import pandas as pd\n",
    "import numpy as np\n",
    "import matplotlib.pyplot as plt\n",
    "from matplotlib import style\n",
    "#pd.core.common.is_list_like = pd.api.types.is_list_like\n",
    "from SALib.sample import latin, fast_sampler\n",
    "from SALib.analyze import fast\n",
    "import json\n",
    "import matplotlib.pyplot as plt\n",
    "import init_objects\n",
    "from functions.helpers import organise_data\n",
    "from functions.sensitivity_an import simulate_params_efast\n",
    "from model import *\n",
    "from matplotlib import style\n",
    "import scipy.stats as stats\n",
    "import statsmodels.api as sm\n",
    "import math"
   ]
  },
  {
   "cell_type": "code",
   "execution_count": 2,
   "metadata": {},
   "outputs": [],
   "source": [
    "style.use('seaborn-ticks')"
   ]
  },
  {
   "cell_type": "code",
   "execution_count": 3,
   "metadata": {},
   "outputs": [],
   "source": [
    "def confidence_interval(data, av):\n",
    "    sample_stdev = np.std(data)\n",
    "    sigma = sample_stdev/math.sqrt(len(data))\n",
    "    return stats.t.interval(alpha = 0.95, df= 24, loc=av, scale=sigma) "
   ]
  },
  {
   "cell_type": "markdown",
   "metadata": {},
   "source": [
    "# Sensitivity analysis \n",
    "Using the eFast method.\n",
    "\n",
    "Measure the influence of different parameters on gini, real gini, palma, real palma, profits, and volatility"
   ]
  },
  {
   "cell_type": "code",
   "execution_count": 4,
   "metadata": {},
   "outputs": [],
   "source": [
    "problem = {\n",
    "  'num_vars': 3,\n",
    "  'names': ['std_noise', \"w_random\", \"strat_share_chartists\"],\n",
    "  'bounds': [[0.03, 0.09], [0.02, 0.15], [0.02, 0.7]]\n",
    "}"
   ]
  },
  {
   "cell_type": "code",
   "execution_count": 12,
   "metadata": {},
   "outputs": [],
   "source": [
    "#param_values = fast_sampler.sample(problem, 65)\n",
    "param_values = latin.sample(problem, N=25)\n",
    "all_parameters = []\n",
    "for parameters in param_values:\n",
    "    pars = {}\n",
    "    for key, value in zip(problem['names'], parameters):\n",
    "        pars[key] = value\n",
    "    all_parameters.append(pars)\n",
    "    \n",
    "fixed_parameters = {\"trader_sample_size\": 10,\n",
    "          \"n_traders\": 1000,\n",
    "          \"init_stocks\": 81,\n",
    "          \"ticks\": 1000,\n",
    "          \"fundamental_value\": 1129.8774292002786,\n",
    "          \"base_risk_aversion\": 0.7,\n",
    "          'spread_max': 0.004087,\n",
    "          \"horizon\": 213,\n",
    "          # Not modelled parameters\n",
    "          \"fundamentalist_horizon_multiplier\": 1.0\n",
    "         }"
   ]
  },
  {
   "cell_type": "code",
   "execution_count": 7,
   "metadata": {},
   "outputs": [
    {
     "data": {
      "text/plain": [
       "2"
      ]
     },
     "execution_count": 7,
     "metadata": {},
     "output_type": "execute_result"
    }
   ],
   "source": [
    "len(all_parameters)"
   ]
  },
  {
   "cell_type": "code",
   "execution_count": 9,
   "metadata": {},
   "outputs": [
    {
     "name": "stdout",
     "output_type": "stream",
     "text": [
      "Start of simulation  0\n",
      "last mid-price was:  1143.3206615427998\n",
      "Start of simulation  1\n",
      "last mid-price was:  1188.7027135221283\n",
      "Start of simulation  0\n",
      "last mid-price was:  1122.328168893239\n",
      "Start of simulation  1\n",
      "last mid-price was:  1187.8236775576393\n"
     ]
    }
   ],
   "source": [
    "gini_avs, real_gini_avs, palma_avs, real_palma_avs, av_profits, av_volatilities = simulate_params_efast(NRUNS=2, parameter_set=all_parameters, fixed_parameters=fixed_parameters)"
   ]
  },
  {
   "cell_type": "code",
   "execution_count": 11,
   "metadata": {},
   "outputs": [
    {
     "data": {
      "text/plain": [
       "0.2379690079718806"
      ]
     },
     "execution_count": 11,
     "metadata": {},
     "output_type": "execute_result"
    }
   ],
   "source": [
    "np.mean(real_gini_avs)"
   ]
  },
  {
   "cell_type": "code",
   "execution_count": 9,
   "metadata": {},
   "outputs": [
    {
     "data": {
      "text/plain": [
       "(-0.02304571513478808, -0.011696803748687059)"
      ]
     },
     "execution_count": 9,
     "metadata": {},
     "output_type": "execute_result"
    }
   ],
   "source": [
    "confidence_interval(model_output, np.mean(model_output))"
   ]
  },
  {
   "cell_type": "code",
   "execution_count": null,
   "metadata": {},
   "outputs": [],
   "source": []
  },
  {
   "cell_type": "code",
   "execution_count": 12,
   "metadata": {},
   "outputs": [],
   "source": [
    "av_difference_BLR_SLR = np.array(model_output)"
   ]
  },
  {
   "cell_type": "code",
   "execution_count": 13,
   "metadata": {},
   "outputs": [],
   "source": [
    "np.savetxt('av_differences.txt', av_difference_BLR_SLR, fmt='%d')"
   ]
  },
  {
   "cell_type": "code",
   "execution_count": 19,
   "metadata": {},
   "outputs": [],
   "source": [
    "#excess_vol_BLR = pd.DataFrame(model_output, columns=['excess_vol_BLR'])"
   ]
  },
  {
   "cell_type": "code",
   "execution_count": 25,
   "metadata": {},
   "outputs": [
    {
     "data": {
      "text/plain": [
       "{'std_noise': 0.06124061789129161,\n",
       " 'w_random': 0.08768800543113182,\n",
       " 'strat_share_chartists': 0.32199263961581887,\n",
       " 'base_risk_aversion': 1.5859970463218376,\n",
       " 'fundamentalist_horizon_multiplier': 3.0827078594194406,\n",
       " 'mutation_intensity': 0.2843046341846871,\n",
       " 'average_learning_ability': 0.42133480223533953}"
      ]
     },
     "execution_count": 25,
     "metadata": {},
     "output_type": "execute_result"
    }
   ],
   "source": [
    "all_parameters[0]"
   ]
  },
  {
   "cell_type": "code",
   "execution_count": 47,
   "metadata": {},
   "outputs": [],
   "source": [
    "std_noises = [all_parameters[idx]['std_noise'] for idx in range(len(all_parameters))]\n",
    "w_randoms = [all_parameters[idx]['w_random'] for idx in range(len(all_parameters))]\n",
    "share_chartists = [all_parameters[idx]['strat_share_chartists'] for idx in range(len(all_parameters))]\n",
    "base_risk_aversions = [all_parameters[idx]['base_risk_aversion'] for idx in range(len(all_parameters))]\n",
    "fundamentalist_horizon_multipliers = [all_parameters[idx]['fundamentalist_horizon_multiplier'] for idx in range(len(all_parameters))]\n",
    "mutation_intensitys = [all_parameters[idx]['mutation_intensity'] for idx in range(len(all_parameters))]\n",
    "average_learning_abilitys = [all_parameters[idx]['average_learning_ability'] for idx in range(len(all_parameters))]"
   ]
  },
  {
   "cell_type": "code",
   "execution_count": 48,
   "metadata": {},
   "outputs": [],
   "source": [
    "excess_vol_BLR = pd.DataFrame(zip(model_output, std_noises, w_randoms, share_chartists, base_risk_aversions, fundamentalist_horizon_multipliers, mutation_intensitys, average_learning_abilitys), \n",
    "             columns=['excess_vol_BLR', 'std_noise', 'w_random', 'strat_share_chartists', 'base_risk_aversion', 'fundamentalist_horizon_multiplier', 'mutation_intensity', 'average_learning_ability'])"
   ]
  },
  {
   "cell_type": "code",
   "execution_count": 60,
   "metadata": {},
   "outputs": [
    {
     "data": {
      "text/plain": [
       "8577985.067802997"
      ]
     },
     "execution_count": 60,
     "metadata": {},
     "output_type": "execute_result"
    }
   ],
   "source": [
    "np.mean(excess_vol_BLR['excess_vol_BLR'])"
   ]
  },
  {
   "cell_type": "markdown",
   "metadata": {},
   "source": [
    "## Scatterplots"
   ]
  },
  {
   "cell_type": "code",
   "execution_count": 58,
   "metadata": {},
   "outputs": [
    {
     "data": {
      "image/png": "[encoded data removed]",
      "text/plain": [
       "<Figure size 1296x144 with 7 Axes>"
      ]
     },
     "metadata": {},
     "output_type": "display_data"
    }
   ],
   "source": [
    "fig, axes = plt.subplots(1, 7, figsize=(18,2))\n",
    "\n",
    "\n",
    "\n",
    "for i, name in enumerate(problem['names']):\n",
    "    axes[i].plot(excess_vol_BLR[name], excess_vol_BLR['excess_vol_BLR'], 'o', color='black')\n",
    "    axes[i].set_title(name)"
   ]
  },
  {
   "cell_type": "code",
   "execution_count": null,
   "metadata": {},
   "outputs": [],
   "source": [
    "# do this for all moments and J-score\n",
    "fig, axes = plt.subplots(nrows=4, ncols=3, figsize=(20, 16))\n",
    "\n",
    "N = 4\n",
    "ind = np.arange(N)  # the x locations for the groups\n",
    "width = 0.40       # the width of the bars\n",
    "\n",
    "ax1 = axes[0,0] \n",
    "ax2 = axes[0,1]\n",
    "ax3 = axes[0,2]\n",
    "ax4 = axes[1,0]\n",
    "ax5 = axes[1,1]\n",
    "ax6 = axes[1,2]\n",
    "ax7 = axes[2,0]\n",
    "ax8 = axes[2,1]\n",
    "ax9 = axes[2,2]\n",
    "ax10 = axes[3,0]\n",
    "ax11 = axes[3,1]\n",
    "\n",
    "flat_axes = [item for sublist in axes for item in sublist]\n",
    "output_labels = [label for label in sc_fast2.columns if label != 'share_mr']\n",
    "\n",
    "for ax, label in zip(flat_axes, output_labels):\n",
    "    ax.plot(sc_fast2['share_mr'], sc_fast2[label], 'o', color='black')\n",
    "    #ax.set_title(label)\n",
    "    ax.set_ylabel(label, fontsize='14')\n",
    "    \n",
    "axes[3, 2].remove()\n",
    "\n",
    "# for ax in [ax1, ax4, ax7, ax10]:\n",
    "#     ax.set_ylabel('Moment', fontsize='14')\n",
    "    \n",
    "for ax in flat_axes:\n",
    "    ax.set_xlabel('$w^{mrf}$', fontsize='14')\n",
    "    \n",
    "\n",
    "plt.tight_layout()\n",
    "\n",
    "fig.savefig('senstivity2_scatter.png', dpi=200)"
   ]
  },
  {
   "cell_type": "code",
   "execution_count": null,
   "metadata": {},
   "outputs": [],
   "source": [
    "#b = np.loadtxt('test1.txt', dtype=int)"
   ]
  },
  {
   "cell_type": "code",
   "execution_count": null,
   "metadata": {},
   "outputs": [],
   "source": [
    "impact_on_av_p = fast.analyze(problem, av_prices, print_to_console=False)\n",
    "impact_on_stdev_p = fast.analyze(problem, stdev_prices, print_to_console=False)"
   ]
  },
  {
   "cell_type": "code",
   "execution_count": null,
   "metadata": {},
   "outputs": [],
   "source": [
    "# plot 5 histograms \n",
    "#fig, ((ax1, ax2, ax3),(ax4, ax5, ax6)) = plt.subplots(2, 3, figsize=(12,5))\n",
    "fig, axes = plt.subplots(nrows=2, ncols=3, figsize=(12, 6))\n",
    "\n",
    "N = 4\n",
    "ind = np.arange(N)  # the x locations for the groups\n",
    "width = 0.40       # the width of the bars\n",
    "\n",
    "ax1 = axes[0,0] \n",
    "ax2 = axes[0,1]\n",
    "ax3 = axes[0,2]\n",
    "ax4 = axes[1,0]\n",
    "ax5 = axes[1,1]\n",
    "\n",
    "ax1.set_title('No autocorrelation')\n",
    "rects1 = ax1.bar(ind, impact_on_no_a['S1'], width, color='k')\n",
    "rects2 = ax1.bar(ind + width, impact_on_no_a['ST'], width, color='w', hatch='\\\\')\n",
    "#ax1.legend((rects1[0], rects2[0]), ('S1', 'ST'))\n",
    "ax1.set_ylabel('impact')\n",
    "\n",
    "ax2.set_title('Fat tails')\n",
    "rects3 = ax2.bar(ind, impact_on_f_t['S1'], width, color='k')\n",
    "rects4 = ax2.bar(ind + width, impact_on_f_t['ST'], width, color='w', hatch='\\\\')\n",
    "\n",
    "ax3.set_title('Clustered volatility')\n",
    "rects5 = ax3.bar(ind, impact_on_cv['S1'], width, color='k')\n",
    "rects6 = ax3.bar(ind + width, impact_on_cv['ST'], width, color='w', hatch='\\\\')\n",
    "\n",
    "ax4.set_title('Long memory')\n",
    "rects7 = ax4.bar(ind, impact_on_lm['S1'], width, color='k')\n",
    "rects8 = ax4.bar(ind + width, impact_on_lm['ST'], width, color='w', hatch='\\\\')\n",
    "ax4.set_ylabel('impact')\n",
    "\n",
    "ax5.set_title('Fundamental deviation')\n",
    "rects9 = ax5.bar(ind, impact_on_df['S1'], width, color='k')\n",
    "rects10 = ax5.bar(ind + width, impact_on_df['ST'], width, color='w', hatch='\\\\')\n",
    "ax5.legend((rects9[0], rects10[0]), ('First-order sensitivity', 'Total sensitivity'), \n",
    "           loc='center left', bbox_to_anchor=(1.25, 0.5))\n",
    "\n",
    "axes[1, 2].remove()\n",
    "\n",
    "for ax in [ax1, ax2, ax3, ax4, ax5]:\n",
    "    ax.set_xticks(ind + width / 2)\n",
    "    ax.set_xticklabels(('F', 'MM', 'NS', 'MR'))\n",
    "    ax.set_ylim(0, 1.0)\n",
    "    \n",
    "#fig.savefig('eFastExpectations.png')"
   ]
  }
 ],
 "metadata": {
  "kernelspec": {
   "display_name": "Python 3",
   "language": "python",
   "name": "python3"
  },
  "language_info": {
   "codemirror_mode": {
    "name": "ipython",
    "version": 3
   },
   "file_extension": ".py",
   "mimetype": "text/x-python",
   "name": "python",
   "nbconvert_exporter": "python",
   "pygments_lexer": "ipython3",
   "version": "3.8.1"
  }
 },
 "nbformat": 4,
 "nbformat_minor": 2
}
